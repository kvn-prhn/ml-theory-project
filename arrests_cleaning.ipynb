{
 "cells": [
  {
   "cell_type": "code",
   "execution_count": 1,
   "id": "f258aee1-8a60-4b71-aeca-05db9bee9c13",
   "metadata": {},
   "outputs": [],
   "source": [
    "import pandas as pd\n",
    "import numpy as np\n",
    "import pathlib\n",
    "import re\n",
    "from datetime import datetime\n",
    "from arrests_columns import ArrestsColumns"
   ]
  },
  {
   "cell_type": "code",
   "execution_count": 2,
   "id": "f37e73c7-7f17-401a-94ca-2fb5d49ffd54",
   "metadata": {},
   "outputs": [
    {
     "name": "stdout",
     "output_type": "stream",
     "text": [
      "use_cols=['Apprehension Date', 'Apprehension State', 'Apprehension AOR', 'Final Program', 'Apprehension Method', 'Apprehension Criminality', 'Case Status', 'Case Category', 'Departed Date', 'Departure Country', 'Final Order Date', 'Birth Year', 'Citizenship Country', 'Gender', 'Apprehension Site Landmark', 'Unique Identifier']\n"
     ]
    },
    {
     "data": {
      "text/html": [
       "<div>\n",
       "<style scoped>\n",
       "    .dataframe tbody tr th:only-of-type {\n",
       "        vertical-align: middle;\n",
       "    }\n",
       "\n",
       "    .dataframe tbody tr th {\n",
       "        vertical-align: top;\n",
       "    }\n",
       "\n",
       "    .dataframe thead th {\n",
       "        text-align: right;\n",
       "    }\n",
       "</style>\n",
       "<table border=\"1\" class=\"dataframe\">\n",
       "  <thead>\n",
       "    <tr style=\"text-align: right;\">\n",
       "      <th></th>\n",
       "      <th>Apprehension Date</th>\n",
       "      <th>Apprehension State</th>\n",
       "      <th>Apprehension AOR</th>\n",
       "      <th>Final Program</th>\n",
       "      <th>Apprehension Method</th>\n",
       "      <th>Apprehension Criminality</th>\n",
       "      <th>Case Status</th>\n",
       "      <th>Case Category</th>\n",
       "      <th>Departed Date</th>\n",
       "      <th>Departure Country</th>\n",
       "      <th>Final Order Date</th>\n",
       "      <th>Birth Year</th>\n",
       "      <th>Citizenship Country</th>\n",
       "      <th>Gender</th>\n",
       "      <th>Apprehension Site Landmark</th>\n",
       "      <th>Unique Identifier</th>\n",
       "    </tr>\n",
       "  </thead>\n",
       "  <tbody>\n",
       "    <tr>\n",
       "      <th>0</th>\n",
       "      <td>2025-07-26 18:50:27</td>\n",
       "      <td>TEXAS</td>\n",
       "      <td>Houston Area of Responsibility</td>\n",
       "      <td>ERO Criminal Alien Program</td>\n",
       "      <td>Custodial Arrest</td>\n",
       "      <td>3 Other Immigration Violator</td>\n",
       "      <td>ACTIVE</td>\n",
       "      <td>[1A] Voluntary Departure - Un-Expired and Un-E...</td>\n",
       "      <td>NaT</td>\n",
       "      <td>None</td>\n",
       "      <td>NaT</td>\n",
       "      <td>2002</td>\n",
       "      <td>HONDURAS</td>\n",
       "      <td>Male</td>\n",
       "      <td>MTG GENERAL AREA, NON-SPECIFIC</td>\n",
       "      <td>000066a0cf0da888503506a0bd39e0772fada2ce</td>\n",
       "    </tr>\n",
       "    <tr>\n",
       "      <th>1</th>\n",
       "      <td>2025-07-02 17:57:46</td>\n",
       "      <td>NEVADA</td>\n",
       "      <td>Salt Lake City Area of Responsibility</td>\n",
       "      <td>ERO Criminal Alien Program</td>\n",
       "      <td>CAP Local Incarceration</td>\n",
       "      <td>2 Pending Criminal Charges</td>\n",
       "      <td>ACTIVE</td>\n",
       "      <td>[8B] Excludable / Inadmissible - Under Adjudic...</td>\n",
       "      <td>NaT</td>\n",
       "      <td>None</td>\n",
       "      <td>NaT</td>\n",
       "      <td>1984</td>\n",
       "      <td>MEXICO</td>\n",
       "      <td>Male</td>\n",
       "      <td>NORTH LAS VEGAS DETENTION CENTER</td>\n",
       "      <td>0000718e93d4f75cdec49ccdd21bf7a09f48a8b7</td>\n",
       "    </tr>\n",
       "    <tr>\n",
       "      <th>2</th>\n",
       "      <td>2024-07-05 10:22:00</td>\n",
       "      <td>NEW YORK</td>\n",
       "      <td>New York City Area of Responsibility</td>\n",
       "      <td>ERO Criminal Alien Program</td>\n",
       "      <td>CAP State Incarceration</td>\n",
       "      <td>1 Convicted Criminal</td>\n",
       "      <td>6-Deported/Removed - Deportability</td>\n",
       "      <td>[3] Deportable - Administratively Final Order</td>\n",
       "      <td>2024-09-05</td>\n",
       "      <td>GUYANA</td>\n",
       "      <td>2014-03-13</td>\n",
       "      <td>1968</td>\n",
       "      <td>GUYANA</td>\n",
       "      <td>Female</td>\n",
       "      <td>CAP - BEDFORD CORRECTIONAL FACILITY NY STATE</td>\n",
       "      <td>0000f265b1ff8abbfbec54888dd2cddb62e21625</td>\n",
       "    </tr>\n",
       "    <tr>\n",
       "      <th>3</th>\n",
       "      <td>2025-05-28 07:42:11</td>\n",
       "      <td>TEXAS</td>\n",
       "      <td>San Antonio Area of Responsibility</td>\n",
       "      <td>ERO Criminal Alien Program</td>\n",
       "      <td>CAP Federal Incarceration</td>\n",
       "      <td>1 Convicted Criminal</td>\n",
       "      <td>8-Excluded/Removed - Inadmissibility</td>\n",
       "      <td>[8F] Expedited Removal</td>\n",
       "      <td>2025-06-25</td>\n",
       "      <td>COLOMBIA</td>\n",
       "      <td>2025-03-02</td>\n",
       "      <td>2004</td>\n",
       "      <td>COLOMBIA</td>\n",
       "      <td>Male</td>\n",
       "      <td>DLR GENERAL AREA, NON-SPECIFIC</td>\n",
       "      <td>00010f535759072a0dfa031f9f3fc5774e49ccee</td>\n",
       "    </tr>\n",
       "    <tr>\n",
       "      <th>4</th>\n",
       "      <td>2024-09-02 23:22:00</td>\n",
       "      <td>TEXAS</td>\n",
       "      <td>Houston Area of Responsibility</td>\n",
       "      <td>ERO Criminal Alien Program</td>\n",
       "      <td>CAP Local Incarceration</td>\n",
       "      <td>1 Convicted Criminal</td>\n",
       "      <td>8-Excluded/Removed - Inadmissibility</td>\n",
       "      <td>[8C] Excludable / Inadmissible - Administrativ...</td>\n",
       "      <td>2025-02-12</td>\n",
       "      <td>EL SALVADOR</td>\n",
       "      <td>2025-01-10</td>\n",
       "      <td>2000</td>\n",
       "      <td>EL SALVADOR</td>\n",
       "      <td>Male</td>\n",
       "      <td>HARRIS COUNTY JAIL, HOUSTON, TX</td>\n",
       "      <td>000143a0747f494567db683e9c21f16fbd6052b0</td>\n",
       "    </tr>\n",
       "  </tbody>\n",
       "</table>\n",
       "</div>"
      ],
      "text/plain": [
       "    Apprehension Date Apprehension State  \\\n",
       "0 2025-07-26 18:50:27              TEXAS   \n",
       "1 2025-07-02 17:57:46             NEVADA   \n",
       "2 2024-07-05 10:22:00           NEW YORK   \n",
       "3 2025-05-28 07:42:11              TEXAS   \n",
       "4 2024-09-02 23:22:00              TEXAS   \n",
       "\n",
       "                        Apprehension AOR               Final Program  \\\n",
       "0         Houston Area of Responsibility  ERO Criminal Alien Program   \n",
       "1  Salt Lake City Area of Responsibility  ERO Criminal Alien Program   \n",
       "2   New York City Area of Responsibility  ERO Criminal Alien Program   \n",
       "3     San Antonio Area of Responsibility  ERO Criminal Alien Program   \n",
       "4         Houston Area of Responsibility  ERO Criminal Alien Program   \n",
       "\n",
       "         Apprehension Method      Apprehension Criminality  \\\n",
       "0           Custodial Arrest  3 Other Immigration Violator   \n",
       "1    CAP Local Incarceration    2 Pending Criminal Charges   \n",
       "2    CAP State Incarceration          1 Convicted Criminal   \n",
       "3  CAP Federal Incarceration          1 Convicted Criminal   \n",
       "4    CAP Local Incarceration          1 Convicted Criminal   \n",
       "\n",
       "                            Case Status  \\\n",
       "0                                ACTIVE   \n",
       "1                                ACTIVE   \n",
       "2    6-Deported/Removed - Deportability   \n",
       "3  8-Excluded/Removed - Inadmissibility   \n",
       "4  8-Excluded/Removed - Inadmissibility   \n",
       "\n",
       "                                       Case Category Departed Date  \\\n",
       "0  [1A] Voluntary Departure - Un-Expired and Un-E...           NaT   \n",
       "1  [8B] Excludable / Inadmissible - Under Adjudic...           NaT   \n",
       "2      [3] Deportable - Administratively Final Order    2024-09-05   \n",
       "3                             [8F] Expedited Removal    2025-06-25   \n",
       "4  [8C] Excludable / Inadmissible - Administrativ...    2025-02-12   \n",
       "\n",
       "  Departure Country Final Order Date  Birth Year Citizenship Country  Gender  \\\n",
       "0              None              NaT        2002            HONDURAS    Male   \n",
       "1              None              NaT        1984              MEXICO    Male   \n",
       "2            GUYANA       2014-03-13        1968              GUYANA  Female   \n",
       "3          COLOMBIA       2025-03-02        2004            COLOMBIA    Male   \n",
       "4       EL SALVADOR       2025-01-10        2000         EL SALVADOR    Male   \n",
       "\n",
       "                     Apprehension Site Landmark  \\\n",
       "0                MTG GENERAL AREA, NON-SPECIFIC   \n",
       "1              NORTH LAS VEGAS DETENTION CENTER   \n",
       "2  CAP - BEDFORD CORRECTIONAL FACILITY NY STATE   \n",
       "3                DLR GENERAL AREA, NON-SPECIFIC   \n",
       "4               HARRIS COUNTY JAIL, HOUSTON, TX   \n",
       "\n",
       "                          Unique Identifier  \n",
       "0  000066a0cf0da888503506a0bd39e0772fada2ce  \n",
       "1  0000718e93d4f75cdec49ccdd21bf7a09f48a8b7  \n",
       "2  0000f265b1ff8abbfbec54888dd2cddb62e21625  \n",
       "3  00010f535759072a0dfa031f9f3fc5774e49ccee  \n",
       "4  000143a0747f494567db683e9c21f16fbd6052b0  "
      ]
     },
     "execution_count": 2,
     "metadata": {},
     "output_type": "execute_result"
    }
   ],
   "source": [
    "proc_dir = pathlib.Path('./proc_data/')\n",
    "d = pd.read_parquet(proc_dir / 'arrests.parquet')\n",
    "use_cols = [v.value[0] for k, v in ArrestsColumns.__members__.items() if not v.value[2] and not v.value[3]]\n",
    "print(f'{use_cols=}')\n",
    "d = d[use_cols].copy()\n",
    "d.head()"
   ]
  },
  {
   "cell_type": "code",
   "execution_count": 3,
   "id": "9699a421-de8a-4735-a6ac-cabd3f6ff38d",
   "metadata": {},
   "outputs": [],
   "source": [
    "def missing_percent_print(d, col_name):\n",
    "    print(f\"{col_name}, {(d[col_name].isnull().sum() / len(d)).item() * 100:.4}% missing values\")"
   ]
  },
  {
   "cell_type": "code",
   "execution_count": 4,
   "id": "40087d88-a03c-4400-9e3c-fa1d16eed913",
   "metadata": {},
   "outputs": [
    {
     "name": "stdout",
     "output_type": "stream",
     "text": [
      "Citizenship Country, 0.0% missing values\n"
     ]
    }
   ],
   "source": [
    "# repeat the same country string replacements\n",
    "\n",
    "def update_country_strings(df, col_name):\n",
    "    df[col_name] = df[col_name].replace('PALESTINE BORN BEFORE 1948', 'PALESTINE')\n",
    "    df[col_name] = df[col_name].replace('Palestine', 'PALESTINE')\n",
    "    \n",
    "    # Soveirgn states and territories\n",
    "    df[col_name] = df[col_name].replace('CHINA, PEOPLES REPUBLIC OF', 'CHINA')\n",
    "    df[col_name] = df[col_name].replace('HONG KONG', 'CHINA')\n",
    "    df[col_name] = df[col_name].replace('MACAU', 'CHINA')\n",
    "    df[col_name] = df[col_name].replace('BRITISH VIRGIN ISLANDS', 'UNITED KINGDOM')\n",
    "    df[col_name] = df[col_name].replace('BERMUDA', 'UNITED KINGDOM')\n",
    "    df[col_name] = df[col_name].replace('NETHERLANDS ANTILLES', 'NETHERLANDS')\n",
    "    df[col_name] = df[col_name].replace('SAINT MARTIN(FRENCH)', 'FRANCE')\n",
    "    df[col_name] = df[col_name].replace('FRENCH POLYNESIA', 'FRANCE')\n",
    "    df[col_name] = df[col_name].replace('GUADELOUPE', 'FRANCE')\n",
    "    df[col_name] = df[col_name].replace('SAINT BARTHELEMY', 'FRANCE')\n",
    "    df[col_name] = df[col_name].replace('NEW CALEDONIA', 'FRANCE')\n",
    "    df[col_name] = df[col_name].replace('REUNION', 'FRANCE')\n",
    "    df[col_name] = df[col_name].replace('FRENCH GUIANA', 'FRANCE')\n",
    "    df[col_name] = df[col_name].replace('SINT MAARTEN(DUTCH)', 'NETHERLANDS')\n",
    "    df[col_name] = df[col_name].replace('ARUBA', 'NETHERLANDS')\n",
    "    df[col_name] = df[col_name].replace('SINT EUSTATIUS', 'NETHERLANDS')\n",
    "    df[col_name] = df[col_name].replace('SABA', 'NETHERLANDS')\n",
    "    df[col_name] = df[col_name].replace('BONAIRE', 'NETHERLANDS')\n",
    "    df[col_name] = df[col_name].replace('CURACAO', 'NETHERLANDS')\n",
    "    df[col_name] = df[col_name].replace('TURKS AND CAICOS ISLANDS', 'UNITED KINGDOM')\n",
    "    df[col_name] = df[col_name].replace('CAYMAN ISLANDS', 'UNITED KINGDOM')\n",
    "    df[col_name] = df[col_name].replace('MONTSERRAT', 'UNITED KINGDOM')\n",
    "    df[col_name] = df[col_name].replace('ANGUILLA', 'UNITED KINGDOM')\n",
    "    df[col_name] = df[col_name].replace('ST. HELENA', 'UNITED KINGDOM')\n",
    "    df[col_name] = df[col_name].replace('CHRISTMAS ISLAND', 'AUSTRALIA')\n",
    "    # note: \"DEM REP OF CONGO\" is a different country from \"CONGO\" which I assume is the republic of congo\n",
    "\n",
    "update_country_strings(d, ArrestsColumns.CITIZENSHIP_COUNTRY.column_name)\n",
    "\n",
    "missing_percent_print(d, ArrestsColumns.CITIZENSHIP_COUNTRY.column_name)"
   ]
  },
  {
   "cell_type": "code",
   "execution_count": 5,
   "id": "df047a46-861e-4b3f-b7c5-91ba62add591",
   "metadata": {},
   "outputs": [
    {
     "name": "stdout",
     "output_type": "stream",
     "text": [
      "Apprehension AOR, 2.057% missing values\n"
     ]
    }
   ],
   "source": [
    "missing_percent_print(d, ArrestsColumns.APPREHENSION_AOR.column_name)\n",
    "# sorted(list(d[~d[ArrestsColumns.APPREHENSION_AOR.column_name].isna()][ArrestsColumns.APPREHENSION_AOR.column_name].unique()))"
   ]
  },
  {
   "cell_type": "code",
   "execution_count": 6,
   "id": "87e72190-579b-4488-bf51-ca05880a39b5",
   "metadata": {},
   "outputs": [
    {
     "name": "stdout",
     "output_type": "stream",
     "text": [
      "Apprehension State, 19.49% missing values\n"
     ]
    }
   ],
   "source": [
    "# this field includes U.S. territories, a state in mexico, and tags for arrests in \"ARMED FORCES\" areas outside the U.S.\n",
    "missing_percent_print(d, ArrestsColumns.APPREHENSION_STATE.column_name)\n",
    "# sorted(list(d[~d[ArrestsColumns.APPREHENSION_STATE.column_name].isna()][ArrestsColumns.APPREHENSION_STATE.column_name].unique()))"
   ]
  },
  {
   "cell_type": "code",
   "execution_count": 7,
   "id": "b65f3b73-db3b-4394-9269-9a5b1238ad0f",
   "metadata": {},
   "outputs": [
    {
     "name": "stdout",
     "output_type": "stream",
     "text": [
      "Final Program, 0.0% missing values\n"
     ]
    }
   ],
   "source": [
    "missing_percent_print(d, ArrestsColumns.FINAL_PROGRAM.column_name)"
   ]
  },
  {
   "cell_type": "code",
   "execution_count": 8,
   "id": "3fd08606-0075-4aeb-810e-4a0391a1bb3f",
   "metadata": {},
   "outputs": [
    {
     "data": {
      "text/plain": [
       "Final Program\n",
       "ERO Criminal Alien Program             176755\n",
       "Fugitive Operations                     47054\n",
       "Non-Detained Docket Control             35299\n",
       "Alternatives to Detention               13992\n",
       "Detained Docket Control                  9676\n",
       "287g Task Force                          5289\n",
       "Juvenile                                  488\n",
       "ERO Criminal Prosecutions                 307\n",
       "Detention and Deportation                 269\n",
       "Law Enforcement Area Response Units        65\n",
       "Joint Criminal Alien Response Team          4\n",
       "Name: count, dtype: int64"
      ]
     },
     "execution_count": 8,
     "metadata": {},
     "output_type": "execute_result"
    }
   ],
   "source": [
    "# under the same same program?\n",
    "d[ArrestsColumns.FINAL_PROGRAM.column_name] = d[ArrestsColumns.FINAL_PROGRAM.column_name].replace('287G Program', '287g Task Force')\n",
    "# https://www.ice.gov/identify-and-arrest/fugitive-operations\n",
    "# another name for the \"Mobile criminal apprehension teams\"?\n",
    "d[ArrestsColumns.FINAL_PROGRAM.column_name] = d[ArrestsColumns.FINAL_PROGRAM.column_name].replace('Mobile Criminal Alien Team', 'Fugitive Operations')\n",
    "# \"Violent Criminal Alien Section (VCAS)\" is under the \"Criminal Alien program\"\n",
    "d[ArrestsColumns.FINAL_PROGRAM.column_name] = d[ArrestsColumns.FINAL_PROGRAM.column_name].replace('Violent Criminal Alien Section', 'ERO Criminal Prosecutions')\n",
    "# https://portal.ice.gov/immigration-guide/atd\n",
    "\n",
    "d[ArrestsColumns.FINAL_PROGRAM.column_name].value_counts()"
   ]
  },
  {
   "cell_type": "code",
   "execution_count": 9,
   "id": "02ea3789-149d-494c-a5a2-b0e81d0d6135",
   "metadata": {},
   "outputs": [
    {
     "name": "stdout",
     "output_type": "stream",
     "text": [
      "Apprehension Method, 0.0% missing values\n"
     ]
    }
   ],
   "source": [
    "missing_percent_print(d, ArrestsColumns.APPREHENSION_METHOD.column_name)"
   ]
  },
  {
   "cell_type": "code",
   "execution_count": 10,
   "id": "4b6fb3da-e4f8-4a78-b40a-a0a4832162fb",
   "metadata": {},
   "outputs": [
    {
     "data": {
      "text/plain": [
       "Apprehension Method\n",
       "CAP Local Incarceration                        119433\n",
       "Non-Custodial Arrest                            64364\n",
       "Located                                         34872\n",
       "CAP Federal Incarceration                       24847\n",
       "Other efforts                                   10921\n",
       "CAP State Incarceration                         10875\n",
       "ERO Reprocessed Arrest                           9328\n",
       "287(g) Program                                   6922\n",
       "Probation and Parole                             3920\n",
       "Custodial Arrest                                 1490\n",
       "Law Enforcement Agency Response Unit              974\n",
       "Patrol Border                                     510\n",
       "Worksite Enforcement                              385\n",
       "Inspections                                       127\n",
       "Traffic Check                                      92\n",
       "Anti-Smuggling                                     83\n",
       "Organized Crime Drug Enforcement Task Force        51\n",
       "Name: count, dtype: int64"
      ]
     },
     "execution_count": 10,
     "metadata": {},
     "output_type": "execute_result"
    }
   ],
   "source": [
    "# filter out \"Criminal Alien Program\" completely because it's too generic\n",
    "d = d[d[ArrestsColumns.APPREHENSION_METHOD.column_name] != 'Criminal Alien Program'].copy()\n",
    "# assume several categories are the same\n",
    "d[ArrestsColumns.APPREHENSION_METHOD.column_name] = d[ArrestsColumns.APPREHENSION_METHOD.column_name].replace('Transportation Check Bus', 'Traffic Check')\n",
    "d[ArrestsColumns.APPREHENSION_METHOD.column_name] = d[ArrestsColumns.APPREHENSION_METHOD.column_name].replace('Transportation Check Passenger Train', 'Traffic Check')\n",
    "d[ArrestsColumns.APPREHENSION_METHOD.column_name] = d[ArrestsColumns.APPREHENSION_METHOD.column_name].replace('Transportation Check Aircraft', 'Traffic Check')\n",
    "d[ArrestsColumns.APPREHENSION_METHOD.column_name] = d[ArrestsColumns.APPREHENSION_METHOD.column_name].replace('Presented During Inspection', 'Inspections')\n",
    "d[ArrestsColumns.APPREHENSION_METHOD.column_name] = d[ArrestsColumns.APPREHENSION_METHOD.column_name].replace('Crewman/Stowaway', 'Inspections')\n",
    "# put remaining tiny categories into 'Other efforts' category\n",
    "d[ArrestsColumns.APPREHENSION_METHOD.column_name] = d[ArrestsColumns.APPREHENSION_METHOD.column_name].replace('Boat Patrol', 'Other efforts')\n",
    "d[ArrestsColumns.APPREHENSION_METHOD.column_name] = d[ArrestsColumns.APPREHENSION_METHOD.column_name].replace('Patrol Interior', 'Other efforts')\n",
    "d[ArrestsColumns.APPREHENSION_METHOD.column_name] = d[ArrestsColumns.APPREHENSION_METHOD.column_name].replace('Other Task Force', 'Other efforts')\n",
    "d[ArrestsColumns.APPREHENSION_METHOD.column_name] = d[ArrestsColumns.APPREHENSION_METHOD.column_name].replace('Other Agency (turned over to INS)', 'Other efforts')\n",
    "\n",
    "d[ArrestsColumns.APPREHENSION_METHOD.column_name].value_counts()"
   ]
  },
  {
   "cell_type": "code",
   "execution_count": 11,
   "id": "4f658296-11e9-4793-ac0a-3192f5f55a4a",
   "metadata": {},
   "outputs": [
    {
     "name": "stdout",
     "output_type": "stream",
     "text": [
      "Apprehension Criminality, 0.0% missing values\n"
     ]
    }
   ],
   "source": [
    "missing_percent_print(d, ArrestsColumns.APPREHENSION_CRIMINALITY.column_name)"
   ]
  },
  {
   "cell_type": "code",
   "execution_count": 12,
   "id": "2ffe7538-053d-4312-bb69-62215e0ab577",
   "metadata": {},
   "outputs": [
    {
     "data": {
      "text/plain": [
       "Apprehension Criminality\n",
       "1 Convicted Criminal            132193\n",
       "3 Other Immigration Violator     82034\n",
       "2 Pending Criminal Charges       74967\n",
       "Name: count, dtype: int64"
      ]
     },
     "execution_count": 12,
     "metadata": {},
     "output_type": "execute_result"
    }
   ],
   "source": [
    "d[ArrestsColumns.APPREHENSION_CRIMINALITY.column_name].value_counts()"
   ]
  },
  {
   "cell_type": "code",
   "execution_count": 13,
   "id": "e393ab17-874c-445b-91c7-b1d359b97a44",
   "metadata": {},
   "outputs": [
    {
     "name": "stdout",
     "output_type": "stream",
     "text": [
      "Case Status, 1.41% missing values\n"
     ]
    }
   ],
   "source": [
    "missing_percent_print(d, ArrestsColumns.CASE_STATUS.column_name)"
   ]
  },
  {
   "cell_type": "code",
   "execution_count": 14,
   "id": "08be690c-565d-4977-90a8-f058775e565d",
   "metadata": {},
   "outputs": [
    {
     "data": {
      "text/plain": [
       "Case Status\n",
       "ACTIVE                                          113089\n",
       "8-Excluded/Removed - Inadmissibility            110990\n",
       "6-Deported/Removed - Deportability               40325\n",
       "3-Voluntary Departure Confirmed                  10497\n",
       "9-VR Witnessed                                    4449\n",
       "E-Charging Document Canceled by ICE               2608\n",
       "A-Proceedings Terminated                          1940\n",
       "B-Relief Granted                                   902\n",
       "L-Legalization - Permanent Residence Granted       111\n",
       "5-Title 50 Expulsion                                92\n",
       "0-Withdrawal Permitted - I-275 Issued               71\n",
       "7-Died                                              41\n",
       "Name: count, dtype: int64"
      ]
     },
     "execution_count": 14,
     "metadata": {},
     "output_type": "execute_result"
    }
   ],
   "source": [
    "# these have different codes but different meanings?\n",
    "# so it's probably find to combine them?\n",
    "d[ArrestsColumns.CASE_STATUS.column_name] = d[ArrestsColumns.CASE_STATUS.column_name].replace('Z-SAW - Permanent Residence Granted', 'L-Legalization - Permanent Residence Granted')\n",
    "\n",
    "d[ArrestsColumns.CASE_STATUS.column_name].value_counts()"
   ]
  },
  {
   "cell_type": "code",
   "execution_count": 15,
   "id": "7f84d0b9-7f42-4f34-af26-631d08330b63",
   "metadata": {},
   "outputs": [
    {
     "name": "stdout",
     "output_type": "stream",
     "text": [
      "Case Category, 1.41% missing values\n"
     ]
    }
   ],
   "source": [
    "missing_percent_print(d, ArrestsColumns.CASE_CATEGORY.column_name)"
   ]
  },
  {
   "cell_type": "code",
   "execution_count": 16,
   "id": "903144c7-bdee-4eee-841f-263beba7bdea",
   "metadata": {},
   "outputs": [
    {
     "data": {
      "text/plain": [
       "Case Category\n",
       "[8C] Excludable / Inadmissible - Administrative Final Order Issued             87134\n",
       "[16] Reinstated Final Order                                                    62531\n",
       "[8B] Excludable / Inadmissible - Under Adjudication by IJ                      54165\n",
       "[8A] Excludable / Inadmissible - Hearing Not Commenced                         18229\n",
       "[3] Deportable - Administratively Final Order                                  14221\n",
       "[8F] Expedited Removal                                                          9610\n",
       "[8G] Expedited Removal - Credible Fear Referral                                 9208\n",
       "[2A] Deportable - Under Adjudication by IJ                                      8513\n",
       "[11] Administrative Deportation / Removal                                       6329\n",
       "[9] VR Under Safeguards                                                         4632\n",
       "[1A] Voluntary Departure - Un-Expired and Un-Extended Departure Period          2805\n",
       "[8K] Expedited Removal Terminated due to Credible Fear Finding / NTA Issued     2403\n",
       "[8D] Excludable / Inadmissible - Under Adjudication by BIA                      1374\n",
       "[10] Visa Waiver Deportation / Removal                                          1313\n",
       "[8E] Inadmissible - ICE Fugitive                                                1224\n",
       "[2B] Deportable - Under Adjudication by BIA                                      424\n",
       "[5F] Unable to Obtain Travel Document                                            316\n",
       "[5C] Relief Granted - Withholding of Deportation / Removal                       105\n",
       "[8H] Expedited Removal - Status Claim Referral                                   103\n",
       "[5D] Final Order of Deportation / Removal - Deferred Action Granted               91\n",
       "[8I] Inadmissible - ICE Fugitive - Expedited Removal                              79\n",
       "[12] Judicial Deportation / Removal                                               76\n",
       "[5E] Relief Granted - Extended Voluntary Departure                                76\n",
       "[5B] Removable - ICE Fugitive                                                     63\n",
       "[14] Crewmen, Stowaways, S-Visa Holders, 235(c) Cases                             40\n",
       "[5A] Referred for Investigation - No Show for Hearing - No Final Order            22\n",
       "[1B] Voluntary Departure - Extended Departure Period                              15\n",
       "[15] Terrorist Court Case (Title 5)                                               12\n",
       "[13] Section 250 Removal                                                           2\n",
       "Name: count, dtype: int64"
      ]
     },
     "execution_count": 16,
     "metadata": {},
     "output_type": "execute_result"
    }
   ],
   "source": [
    "d[ArrestsColumns.CASE_CATEGORY.column_name].value_counts()"
   ]
  },
  {
   "cell_type": "code",
   "execution_count": 17,
   "id": "f6c9d4cc-fb66-4f7b-b04b-869b1305516d",
   "metadata": {},
   "outputs": [
    {
     "data": {
      "text/plain": [
       "Departed Date\n",
       "2025-06-26    1078\n",
       "2025-07-11    1031\n",
       "2025-07-18     951\n",
       "2025-07-04     912\n",
       "2025-06-05     907\n",
       "              ... \n",
       "2023-11-12       1\n",
       "2024-05-05       1\n",
       "2023-11-05       1\n",
       "2024-09-15       1\n",
       "2024-04-14       1\n",
       "Name: count, Length: 692, dtype: int64"
      ]
     },
     "execution_count": 17,
     "metadata": {},
     "output_type": "execute_result"
    }
   ],
   "source": [
    "# consistent date filtering\n",
    "d = d[d[ArrestsColumns.DEPARTED_DATE.column_name].isna() |\n",
    "      ((pd.to_datetime('2023-9-1') <= d[ArrestsColumns.DEPARTED_DATE.column_name]) & \n",
    "      (d[ArrestsColumns.DEPARTED_DATE.column_name] <= pd.to_datetime('2025-7-31')))].copy()\n",
    "\n",
    "d[ArrestsColumns.DEPARTED_DATE.column_name].value_counts()"
   ]
  },
  {
   "cell_type": "code",
   "execution_count": 18,
   "id": "2863e6fa-e1ed-4ad7-a546-140742597ba8",
   "metadata": {},
   "outputs": [
    {
     "data": {
      "text/plain": [
       "Departed Date\n",
       "False    166439\n",
       "True     122730\n",
       "Name: count, dtype: int64"
      ]
     },
     "execution_count": 18,
     "metadata": {},
     "output_type": "execute_result"
    }
   ],
   "source": [
    "# departure country/date == null means they haven't been deported yet\n",
    "d[ArrestsColumns.DEPARTED_DATE.column_name].isna().value_counts()"
   ]
  },
  {
   "cell_type": "code",
   "execution_count": 19,
   "id": "b8e96783-d69d-48ff-8e13-9f56907e1f9f",
   "metadata": {},
   "outputs": [
    {
     "name": "stdout",
     "output_type": "stream",
     "text": [
      "Departure Country, 42.46% missing values\n"
     ]
    },
    {
     "data": {
      "text/plain": [
       "Departure Country\n",
       "MEXICO                   81207\n",
       "GUATEMALA                23868\n",
       "HONDURAS                 22287\n",
       "EL SALVADOR               8131\n",
       "VENEZUELA                 4730\n",
       "                         ...  \n",
       "SAO TOME AND PRINCIPE        1\n",
       "BAHRAIN                      1\n",
       "BOTSWANA                     1\n",
       "AUSTRIA                      1\n",
       "TURKMENISTAN                 1\n",
       "Name: count, Length: 176, dtype: int64"
      ]
     },
     "execution_count": 19,
     "metadata": {},
     "output_type": "execute_result"
    }
   ],
   "source": [
    "missing_percent_print(d, ArrestsColumns.DEPARTURE_COUNTRY.column_name)\n",
    "update_country_strings(d, ArrestsColumns.DEPARTURE_COUNTRY.column_name)\n",
    "\n",
    "d[ArrestsColumns.DEPARTURE_COUNTRY.column_name].value_counts()"
   ]
  },
  {
   "cell_type": "code",
   "execution_count": 20,
   "id": "bf31acb1-f562-4574-b9d8-aea30b98f6a2",
   "metadata": {},
   "outputs": [],
   "source": [
    "# sorted(list(d[~d[ArrestsColumns.DEPARTURE_COUNTRY.column_name].isna()][ArrestsColumns.DEPARTURE_COUNTRY.column_name].unique()))"
   ]
  },
  {
   "cell_type": "code",
   "execution_count": 21,
   "id": "be61cc77-a261-4500-9944-8526b65bc2cd",
   "metadata": {},
   "outputs": [
    {
     "name": "stdout",
     "output_type": "stream",
     "text": [
      "Gender, 0.0% missing values\n"
     ]
    }
   ],
   "source": [
    "missing_percent_print(d, ArrestsColumns.GENDER.column_name)"
   ]
  },
  {
   "cell_type": "code",
   "execution_count": 22,
   "id": "06e67d43-deb6-40f8-ab9f-185e5ff284a3",
   "metadata": {},
   "outputs": [
    {
     "name": "stdout",
     "output_type": "stream",
     "text": [
      "Apprehension Site Landmark, 2.162% missing values\n"
     ]
    }
   ],
   "source": [
    "missing_percent_print(d, ArrestsColumns.APPREHENSION_SITE_LANDMARK.column_name)"
   ]
  },
  {
   "cell_type": "code",
   "execution_count": 23,
   "id": "3586a8a1-880c-4f42-a25a-b0bd1a05cc6b",
   "metadata": {},
   "outputs": [],
   "source": [
    "# download states table if needed\n",
    "if not pathlib.Path('states.csv').exists():\n",
    "    import requests\n",
    "    with requests.get('https://raw.githubusercontent.com/jasonong/List-of-US-States/refs/heads/master/states.csv') as r:\n",
    "        with open('states.csv', 'wb') as f:\n",
    "            f.write(r.content)\n",
    "states_d = pd.read_csv('states.csv')\n",
    "states_d['State_Upper'] = states_d['State'].apply(lambda x: x.upper())"
   ]
  },
  {
   "cell_type": "code",
   "execution_count": 24,
   "id": "7483e23c-bbe3-4a66-826f-796bc64035e5",
   "metadata": {},
   "outputs": [],
   "source": [
    "apprsl_d = d[~d[ArrestsColumns.APPREHENSION_SITE_LANDMARK.column_name].isna()][[ArrestsColumns.APPREHENSION_SITE_LANDMARK.column_name]].drop_duplicates().copy()\n",
    "c = ArrestsColumns.APPREHENSION_SITE_LANDMARK.column_name\n",
    "apprsl_d['repl_val'] = apprsl_d[c].apply(lambda x: x.strip())\n",
    "# some strings end with full state name instead of abbreviation.\n",
    "# https://github.com/jasonong/List-of-US-States/blob/master/states.csv\n",
    "\n",
    "# if the string ends with a full state name, then repale it with the abbreviation\n",
    "def str_end_state_to_abbr(x):\n",
    "    for i, r in states_d.iterrows():\n",
    "        if x.endswith(f\" {r['State_Upper']}\"):\n",
    "            # print(x)\n",
    "            return x.replace(r['State_Upper'], r['Abbreviation'])\n",
    "    return x\n",
    "\n",
    "apprsl_d['repl_val'] = apprsl_d['repl_val'].apply(str_end_state_to_abbr)\n",
    "\n",
    "apprsl_d['repl_val'] = apprsl_d['repl_val'].apply(lambda x: x.upper())\n",
    "apprsl_d['repl_val'] = apprsl_d['repl_val'].apply(lambda x: x[:-len(' STATE')] if x.endswith(' STATE') else x)\n",
    "# sometimes, the states at end of strings have a comma and sometimes they don't\n",
    "# assume if the string ends with an  upper case 2 letter string, then it's a state \n",
    "# and we can add a comma to try normalizing it\n",
    "def add_comma_before_state_abbrev(x):\n",
    "    m = re.search('[A-Z] ([A-Z][A-Z])$', x)\n",
    "    if m:\n",
    "        return f'{x[:-3]}, {m.groups(0)[0]}'\n",
    "    return x\n",
    "\n",
    "# 'CAP-String', 'CAP String' => 'CAP - String'\n",
    "apprsl_d['repl_val'].apply(lambda x: x.replace('CAP-', 'CAP - ', count=1) if x.startswith('CAP-') else x)\n",
    "apprsl_d['repl_val'].apply(lambda x: x.replace('CAP ', 'CAP - ', count=1) if x.startswith('CAP ') else x)\n",
    "\n",
    "apprsl_d['repl_val'] = apprsl_d['repl_val'].apply(add_comma_before_state_abbrev)"
   ]
  },
  {
   "cell_type": "code",
   "execution_count": 25,
   "id": "d70f86b2-65d0-4429-9b27-87f385212b08",
   "metadata": {},
   "outputs": [],
   "source": [
    "d = d.merge(apprsl_d, on = ArrestsColumns.APPREHENSION_SITE_LANDMARK.column_name, how = 'left')\n",
    "d[ArrestsColumns.APPREHENSION_SITE_LANDMARK.column_name] = d['repl_val']\n",
    "d = d.drop('repl_val', axis = 1).copy()"
   ]
  },
  {
   "cell_type": "code",
   "execution_count": 26,
   "id": "c46e783f-bd8c-4383-a8c0-02a4be93cfa8",
   "metadata": {},
   "outputs": [],
   "source": [
    "# d.to_parquet(proc_data / 'arrests_cleaned.parquet')"
   ]
  },
  {
   "cell_type": "code",
   "execution_count": null,
   "id": "3f4994ce-2c1a-4d08-93ae-8117c2f9ba4d",
   "metadata": {},
   "outputs": [],
   "source": []
  }
 ],
 "metadata": {
  "kernelspec": {
   "display_name": "Python 3 (ipykernel)",
   "language": "python",
   "name": "python3"
  },
  "language_info": {
   "codemirror_mode": {
    "name": "ipython",
    "version": 3
   },
   "file_extension": ".py",
   "mimetype": "text/x-python",
   "name": "python",
   "nbconvert_exporter": "python",
   "pygments_lexer": "ipython3",
   "version": "3.13.5"
  }
 },
 "nbformat": 4,
 "nbformat_minor": 5
}
