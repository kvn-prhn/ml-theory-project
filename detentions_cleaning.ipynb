{
 "cells": [
  {
   "cell_type": "code",
   "execution_count": 1,
   "id": "f258aee1-8a60-4b71-aeca-05db9bee9c13",
   "metadata": {},
   "outputs": [],
   "source": [
    "import pandas as pd\n",
    "import numpy as np\n",
    "import pathlib\n",
    "import re\n",
    "from datetime import datetime\n",
    "from detentions_columns import DetentionsColumns"
   ]
  },
  {
   "cell_type": "code",
   "execution_count": 2,
   "id": "f37e73c7-7f17-401a-94ca-2fb5d49ffd54",
   "metadata": {},
   "outputs": [
    {
     "name": "stdout",
     "output_type": "stream",
     "text": [
      "use_cols=['Stay Book In Date Time', 'Book In Date Time', 'Detention Facility Code', 'Detention Book Out Date Time', 'Stay Book Out Date Time', 'Detention Release Reason', 'Stay Book Out Date', 'Stay Release Reason', 'Gender', 'Marital Status', 'Birth Year', 'Ethnicity', 'Entry Status', 'Felon', 'Case Status', 'Case Category', 'Final Order Yes No', 'Final Order Date', 'Case Threat Level', 'Book In Criminality', 'Final Charge', 'Departed Date', 'Departure Country', 'Initial Bond Set Amount', 'Citizenship Country', 'Final Program', 'MSC Charge', 'Unique Identifier']\n"
     ]
    },
    {
     "data": {
      "text/html": [
       "<div>\n",
       "<style scoped>\n",
       "    .dataframe tbody tr th:only-of-type {\n",
       "        vertical-align: middle;\n",
       "    }\n",
       "\n",
       "    .dataframe tbody tr th {\n",
       "        vertical-align: top;\n",
       "    }\n",
       "\n",
       "    .dataframe thead th {\n",
       "        text-align: right;\n",
       "    }\n",
       "</style>\n",
       "<table border=\"1\" class=\"dataframe\">\n",
       "  <thead>\n",
       "    <tr style=\"text-align: right;\">\n",
       "      <th></th>\n",
       "      <th>Stay Book In Date Time</th>\n",
       "      <th>Book In Date Time</th>\n",
       "      <th>Detention Facility Code</th>\n",
       "      <th>Detention Book Out Date Time</th>\n",
       "      <th>Stay Book Out Date Time</th>\n",
       "      <th>Detention Release Reason</th>\n",
       "      <th>Stay Book Out Date</th>\n",
       "      <th>Stay Release Reason</th>\n",
       "      <th>Gender</th>\n",
       "      <th>Marital Status</th>\n",
       "      <th>...</th>\n",
       "      <th>Case Threat Level</th>\n",
       "      <th>Book In Criminality</th>\n",
       "      <th>Final Charge</th>\n",
       "      <th>Departed Date</th>\n",
       "      <th>Departure Country</th>\n",
       "      <th>Initial Bond Set Amount</th>\n",
       "      <th>Citizenship Country</th>\n",
       "      <th>Final Program</th>\n",
       "      <th>MSC Charge</th>\n",
       "      <th>Unique Identifier</th>\n",
       "    </tr>\n",
       "  </thead>\n",
       "  <tbody>\n",
       "    <tr>\n",
       "      <th>0</th>\n",
       "      <td>2024-07-04 02:15:00</td>\n",
       "      <td>2024-07-04 02:15:00</td>\n",
       "      <td>FLO</td>\n",
       "      <td>2024-07-04 10:00:00</td>\n",
       "      <td>2024-07-04 10:00:00</td>\n",
       "      <td>Removed</td>\n",
       "      <td>2024-07-04</td>\n",
       "      <td>Removed</td>\n",
       "      <td>Male</td>\n",
       "      <td>Single</td>\n",
       "      <td>...</td>\n",
       "      <td>NaN</td>\n",
       "      <td>3 Other Immigration Violator</td>\n",
       "      <td>PREVIOUSLY ORDERED REMOVED AND ENTERED OR ATTE...</td>\n",
       "      <td>2024-07-04</td>\n",
       "      <td>MEXICO</td>\n",
       "      <td>NaN</td>\n",
       "      <td>MEXICO</td>\n",
       "      <td>Border Patrol</td>\n",
       "      <td>None</td>\n",
       "      <td>000031423837d9b430050e9298882932f74ee3dd</td>\n",
       "    </tr>\n",
       "    <tr>\n",
       "      <th>1</th>\n",
       "      <td>2023-09-09 03:20:00</td>\n",
       "      <td>2023-09-09 04:30:00</td>\n",
       "      <td>FLO</td>\n",
       "      <td>2023-09-09 09:04:00</td>\n",
       "      <td>2023-09-09 09:04:00</td>\n",
       "      <td>Removed</td>\n",
       "      <td>2023-09-09</td>\n",
       "      <td>Removed</td>\n",
       "      <td>Female</td>\n",
       "      <td>Single</td>\n",
       "      <td>...</td>\n",
       "      <td>NaN</td>\n",
       "      <td>3 Other Immigration Violator</td>\n",
       "      <td>PREVIOUSLY ORDERED REMOVED AND ENTERED OR ATTE...</td>\n",
       "      <td>2023-09-09</td>\n",
       "      <td>MEXICO</td>\n",
       "      <td>NaN</td>\n",
       "      <td>MEXICO</td>\n",
       "      <td>Border Patrol</td>\n",
       "      <td>None</td>\n",
       "      <td>00007be9691d4682465db5bd1a5a0cca4af9019c</td>\n",
       "    </tr>\n",
       "    <tr>\n",
       "      <th>2</th>\n",
       "      <td>2023-09-09 03:20:00</td>\n",
       "      <td>2023-09-09 03:20:00</td>\n",
       "      <td>FSF</td>\n",
       "      <td>2023-09-09 04:19:00</td>\n",
       "      <td>2023-09-09 09:04:00</td>\n",
       "      <td>Transferred</td>\n",
       "      <td>2023-09-09</td>\n",
       "      <td>Removed</td>\n",
       "      <td>Female</td>\n",
       "      <td>Single</td>\n",
       "      <td>...</td>\n",
       "      <td>NaN</td>\n",
       "      <td>3 Other Immigration Violator</td>\n",
       "      <td>PREVIOUSLY ORDERED REMOVED AND ENTERED OR ATTE...</td>\n",
       "      <td>2023-09-09</td>\n",
       "      <td>MEXICO</td>\n",
       "      <td>NaN</td>\n",
       "      <td>MEXICO</td>\n",
       "      <td>Border Patrol</td>\n",
       "      <td>None</td>\n",
       "      <td>00007be9691d4682465db5bd1a5a0cca4af9019c</td>\n",
       "    </tr>\n",
       "    <tr>\n",
       "      <th>3</th>\n",
       "      <td>2024-06-16 13:18:00</td>\n",
       "      <td>2024-06-16 13:18:00</td>\n",
       "      <td>RGRNDTX</td>\n",
       "      <td>2024-06-25 03:00:00</td>\n",
       "      <td>2024-06-25 03:00:00</td>\n",
       "      <td>Removed</td>\n",
       "      <td>2024-06-25</td>\n",
       "      <td>Removed</td>\n",
       "      <td>Male</td>\n",
       "      <td>Single</td>\n",
       "      <td>...</td>\n",
       "      <td>NaN</td>\n",
       "      <td>3 Other Immigration Violator</td>\n",
       "      <td>IMMIGRANT WITHOUT AN IMMIGRANT VISA</td>\n",
       "      <td>2024-06-25</td>\n",
       "      <td>COLOMBIA</td>\n",
       "      <td>NaN</td>\n",
       "      <td>COLOMBIA</td>\n",
       "      <td>Border Patrol</td>\n",
       "      <td>None</td>\n",
       "      <td>0000cecbf0050979574b60e7d2f2fefdb2c8eb6c</td>\n",
       "    </tr>\n",
       "    <tr>\n",
       "      <th>4</th>\n",
       "      <td>2024-07-05 11:58:00</td>\n",
       "      <td>2024-07-05 14:50:00</td>\n",
       "      <td>NYCHOLD</td>\n",
       "      <td>2024-07-05 15:00:00</td>\n",
       "      <td>2024-09-04 19:18:00</td>\n",
       "      <td>Transferred</td>\n",
       "      <td>2024-09-04</td>\n",
       "      <td>Removed</td>\n",
       "      <td>Female</td>\n",
       "      <td>Single</td>\n",
       "      <td>...</td>\n",
       "      <td>1.0</td>\n",
       "      <td>1 Convicted Criminal</td>\n",
       "      <td>Aggravated Felony: 101(a)(43)(A) Murder, Rape ...</td>\n",
       "      <td>2024-09-05</td>\n",
       "      <td>GUYANA</td>\n",
       "      <td>NaN</td>\n",
       "      <td>GUYANA</td>\n",
       "      <td>ERO Criminal Alien Program</td>\n",
       "      <td>Sex Assault - Carnal Abuse</td>\n",
       "      <td>0000f265b1ff8abbfbec54888dd2cddb62e21625</td>\n",
       "    </tr>\n",
       "  </tbody>\n",
       "</table>\n",
       "<p>5 rows × 28 columns</p>\n",
       "</div>"
      ],
      "text/plain": [
       "  Stay Book In Date Time   Book In Date Time Detention Facility Code  \\\n",
       "0    2024-07-04 02:15:00 2024-07-04 02:15:00                     FLO   \n",
       "1    2023-09-09 03:20:00 2023-09-09 04:30:00                     FLO   \n",
       "2    2023-09-09 03:20:00 2023-09-09 03:20:00                     FSF   \n",
       "3    2024-06-16 13:18:00 2024-06-16 13:18:00                 RGRNDTX   \n",
       "4    2024-07-05 11:58:00 2024-07-05 14:50:00                 NYCHOLD   \n",
       "\n",
       "  Detention Book Out Date Time Stay Book Out Date Time  \\\n",
       "0          2024-07-04 10:00:00     2024-07-04 10:00:00   \n",
       "1          2023-09-09 09:04:00     2023-09-09 09:04:00   \n",
       "2          2023-09-09 04:19:00     2023-09-09 09:04:00   \n",
       "3          2024-06-25 03:00:00     2024-06-25 03:00:00   \n",
       "4          2024-07-05 15:00:00     2024-09-04 19:18:00   \n",
       "\n",
       "  Detention Release Reason Stay Book Out Date Stay Release Reason  Gender  \\\n",
       "0                  Removed         2024-07-04             Removed    Male   \n",
       "1                  Removed         2023-09-09             Removed  Female   \n",
       "2              Transferred         2023-09-09             Removed  Female   \n",
       "3                  Removed         2024-06-25             Removed    Male   \n",
       "4              Transferred         2024-09-04             Removed  Female   \n",
       "\n",
       "  Marital Status  ...  Case Threat Level           Book In Criminality  \\\n",
       "0         Single  ...                NaN  3 Other Immigration Violator   \n",
       "1         Single  ...                NaN  3 Other Immigration Violator   \n",
       "2         Single  ...                NaN  3 Other Immigration Violator   \n",
       "3         Single  ...                NaN  3 Other Immigration Violator   \n",
       "4         Single  ...                1.0          1 Convicted Criminal   \n",
       "\n",
       "                                        Final Charge Departed Date  \\\n",
       "0  PREVIOUSLY ORDERED REMOVED AND ENTERED OR ATTE...    2024-07-04   \n",
       "1  PREVIOUSLY ORDERED REMOVED AND ENTERED OR ATTE...    2023-09-09   \n",
       "2  PREVIOUSLY ORDERED REMOVED AND ENTERED OR ATTE...    2023-09-09   \n",
       "3                IMMIGRANT WITHOUT AN IMMIGRANT VISA    2024-06-25   \n",
       "4  Aggravated Felony: 101(a)(43)(A) Murder, Rape ...    2024-09-05   \n",
       "\n",
       "  Departure Country Initial Bond Set Amount Citizenship Country  \\\n",
       "0            MEXICO                     NaN              MEXICO   \n",
       "1            MEXICO                     NaN              MEXICO   \n",
       "2            MEXICO                     NaN              MEXICO   \n",
       "3          COLOMBIA                     NaN            COLOMBIA   \n",
       "4            GUYANA                     NaN              GUYANA   \n",
       "\n",
       "                Final Program                  MSC Charge  \\\n",
       "0               Border Patrol                        None   \n",
       "1               Border Patrol                        None   \n",
       "2               Border Patrol                        None   \n",
       "3               Border Patrol                        None   \n",
       "4  ERO Criminal Alien Program  Sex Assault - Carnal Abuse   \n",
       "\n",
       "                          Unique Identifier  \n",
       "0  000031423837d9b430050e9298882932f74ee3dd  \n",
       "1  00007be9691d4682465db5bd1a5a0cca4af9019c  \n",
       "2  00007be9691d4682465db5bd1a5a0cca4af9019c  \n",
       "3  0000cecbf0050979574b60e7d2f2fefdb2c8eb6c  \n",
       "4  0000f265b1ff8abbfbec54888dd2cddb62e21625  \n",
       "\n",
       "[5 rows x 28 columns]"
      ]
     },
     "execution_count": 2,
     "metadata": {},
     "output_type": "execute_result"
    }
   ],
   "source": [
    "proc_dir = pathlib.Path('./proc_data/')\n",
    "d = pd.read_parquet(proc_dir / 'detentions.parquet')\n",
    "use_cols = [v.value[0] for k, v in DetentionsColumns.__members__.items() if not v.value[2] and not v.value[3]]\n",
    "print(f'{use_cols=}')\n",
    "d = d[use_cols].copy()\n",
    "d.head()"
   ]
  },
  {
   "cell_type": "code",
   "execution_count": 3,
   "id": "9699a421-de8a-4735-a6ac-cabd3f6ff38d",
   "metadata": {},
   "outputs": [],
   "source": [
    "def missing_percent_print(d, col_name):\n",
    "    print(f\"{col_name}, {(d[col_name].isnull().sum() / len(d)).item() * 100:.4}% missing values\")"
   ]
  },
  {
   "cell_type": "code",
   "execution_count": 4,
   "id": "14207014-014e-4415-9469-dda24f03fb70",
   "metadata": {},
   "outputs": [
    {
     "name": "stdout",
     "output_type": "stream",
     "text": [
      "Stay Book In Date Time, 0.0% missing values\n"
     ]
    }
   ],
   "source": [
    "missing_percent_print(d, DetentionsColumns.STAY_BOOK_IN_DATE_TIME.column_name)"
   ]
  },
  {
   "cell_type": "code",
   "execution_count": 5,
   "id": "9c2122cf-f741-473a-8dc1-4cb7a790af77",
   "metadata": {},
   "outputs": [
    {
     "name": "stdout",
     "output_type": "stream",
     "text": [
      "before detentions date filtering: d.shape=(1322499, 28)\n",
      "after detentions date filtering: d.shape=(1260522, 28)\n"
     ]
    }
   ],
   "source": [
    "# dates filtering\n",
    "print(f'before detentions date filtering: {d.shape=}')\n",
    "d = d[d[DetentionsColumns.STAY_BOOK_IN_DATE_TIME.column_name].isna() |\n",
    "      ((pd.to_datetime('2023-9-1') <= d[DetentionsColumns.STAY_BOOK_IN_DATE_TIME.column_name]) & \n",
    "      (d[DetentionsColumns.STAY_BOOK_IN_DATE_TIME.column_name] <= pd.to_datetime('2025-7-31')))].copy()\n",
    "d = d[d[DetentionsColumns.BOOK_IN_DATE_TIME.column_name].isna() |\n",
    "      ((pd.to_datetime('2023-9-1') <= d[DetentionsColumns.BOOK_IN_DATE_TIME.column_name]) & \n",
    "      (d[DetentionsColumns.BOOK_IN_DATE_TIME.column_name] <= pd.to_datetime('2025-7-31')))].copy()\n",
    "d = d[d[DetentionsColumns.STAY_BOOK_OUT_DATE_TIME.column_name].isna() |\n",
    "      ((pd.to_datetime('2023-9-1') <= d[DetentionsColumns.STAY_BOOK_OUT_DATE_TIME.column_name]) & \n",
    "      (d[DetentionsColumns.STAY_BOOK_OUT_DATE_TIME.column_name] <= pd.to_datetime('2025-7-31')))].copy()\n",
    "d = d[d[DetentionsColumns.STAY_BOOK_OUT_DATE.column_name].isna() |\n",
    "      ((pd.to_datetime('2023-9-1') <= d[DetentionsColumns.STAY_BOOK_OUT_DATE.column_name]) & \n",
    "      (d[DetentionsColumns.STAY_BOOK_OUT_DATE.column_name] <= pd.to_datetime('2025-7-31')))].copy()\n",
    "print(f'after detentions date filtering: {d.shape=}')"
   ]
  },
  {
   "cell_type": "code",
   "execution_count": 6,
   "id": "e8e86fcc-35a8-42bc-b37e-cdd34d3965d8",
   "metadata": {},
   "outputs": [
    {
     "name": "stdout",
     "output_type": "stream",
     "text": [
      "Detention Facility Code, 0.0% missing values\n"
     ]
    }
   ],
   "source": [
    "missing_percent_print(d, DetentionsColumns.DETENTION_FACILITY_CODE.column_name)"
   ]
  },
  {
   "cell_type": "code",
   "execution_count": 7,
   "id": "ab68530d-4999-4f43-a917-d52bd7c1257b",
   "metadata": {},
   "outputs": [],
   "source": [
    "# d[DetentionsColumns.DETENTION_FACILITY_CODE.column_name].value_counts()"
   ]
  },
  {
   "cell_type": "code",
   "execution_count": 8,
   "id": "11f3b8ae-597d-4cf4-948b-e4b77c33a07f",
   "metadata": {},
   "outputs": [
    {
     "name": "stdout",
     "output_type": "stream",
     "text": [
      "Detention Release Reason, 4.473% missing values\n"
     ]
    }
   ],
   "source": [
    "missing_percent_print(d, DetentionsColumns.DETENTION_RELEASE_REASON.column_name)"
   ]
  },
  {
   "cell_type": "code",
   "execution_count": 9,
   "id": "d3594c0d-bdb1-4550-9159-f23a747fdef8",
   "metadata": {},
   "outputs": [],
   "source": [
    "def release_reason_replace(d, c):\n",
    "    # c = DetentionsColumns.DETENTION_RELEASE_REASON.column_name\n",
    "    # group similar categories back to other categories if its obvious\n",
    "    d[c] = d[c].replace('Paroled - Fear Found', 'Paroled')\n",
    "    d[c] = d[c].replace('Paroled - Public Benefit', 'Paroled')\n",
    "    d[c] = d[c].replace('Paroled - Humanitarian', 'Paroled')\n",
    "    d[c] = d[c].replace('Voluntary Return', 'Voluntary departure')\n",
    "    d[c] = d[c].replace('Voluntary Return', 'Voluntary departure')\n",
    "    # https://immigrationlawneworleans.com/immigration-law/order-of-supervision-osup-what-you-need-to-know/\n",
    "    d[c] = d[c].replace('Order of supervision', 'Order of Supervision')\n",
    "    d[c] = d[c].replace('Order of Supervision - Humanitarian', 'Order of Supervision')\n",
    "    d[c] = d[c].replace('Order of Supervision - Re-Release', 'Order of Supervision')\n",
    "    d[c] = d[c].replace('Order of Supervision - No SLRRFF', 'Order of Supervision')\n",
    "    d[c] = d[c].replace('Order of recognizance', 'Order of Recognizance')\n",
    "    d[c] = d[c].replace('Order of Recognizance - Humanitarian', 'Order of Recognizance')\n",
    "    d[c] = d[c].replace('ORR - Office of Refugee Resettlement', 'Office of Refugee Resettlement')\n",
    "    d[c] = d[c].replace('ORR-Runaway', 'Office of Refugee Resettlement')\n",
    "\n",
    "release_reason_replace(d, DetentionsColumns.DETENTION_RELEASE_REASON.column_name)"
   ]
  },
  {
   "cell_type": "code",
   "execution_count": 10,
   "id": "f9c96923-4d80-4a52-8d29-1e9c48f6119b",
   "metadata": {},
   "outputs": [
    {
     "data": {
      "text/plain": [
       "Detention Release Reason\n",
       "Transferred                                                      720836\n",
       "Removed                                                          308402\n",
       "Paroled                                                           78506\n",
       "Order of Recognizance                                             33286\n",
       "Bonded Out - IJ                                                   21930\n",
       "U.S. Marshals or other agency (explain in Detention Comments)     15071\n",
       "Order of Supervision                                               9045\n",
       "Processing Disposition Changed Locally                             6921\n",
       "Voluntary departure                                                3103\n",
       "Bonded Out - Field Office                                          3004\n",
       "Relief Granted by IJ                                               2072\n",
       "Proceedings Terminated                                             1736\n",
       "Withdrawal                                                          167\n",
       "Died                                                                 27\n",
       "Escaped                                                              26\n",
       "Title 42 Return                                                       4\n",
       "Office of Refugee Resettlement                                        3\n",
       "Name: count, dtype: int64"
      ]
     },
     "execution_count": 10,
     "metadata": {},
     "output_type": "execute_result"
    }
   ],
   "source": [
    "d[DetentionsColumns.DETENTION_RELEASE_REASON.column_name].value_counts()"
   ]
  },
  {
   "cell_type": "code",
   "execution_count": 11,
   "id": "1605a3fa-381d-40ca-b785-8194d5dfde35",
   "metadata": {},
   "outputs": [
    {
     "name": "stdout",
     "output_type": "stream",
     "text": [
      "Stay Release Reason, 11.75% missing values\n"
     ]
    }
   ],
   "source": [
    "missing_percent_print(d, DetentionsColumns.STAY_RELEASE_REASON.column_name)"
   ]
  },
  {
   "cell_type": "code",
   "execution_count": 12,
   "id": "82ac5010-27b9-411b-9016-f7bb26b12fb9",
   "metadata": {},
   "outputs": [],
   "source": [
    "release_reason_replace(d, DetentionsColumns.STAY_RELEASE_REASON.column_name)"
   ]
  },
  {
   "cell_type": "code",
   "execution_count": 13,
   "id": "527504a9-7f4f-45e4-9cd3-444445225ed2",
   "metadata": {},
   "outputs": [
    {
     "data": {
      "text/plain": [
       "Stay Release Reason\n",
       "Removed                                                          806675\n",
       "Paroled                                                          131191\n",
       "Bonded Out - IJ                                                   52056\n",
       "Order of Recognizance                                             50759\n",
       "U.S. Marshals or other agency (explain in Detention Comments)     26949\n",
       "Order of Supervision                                              17395\n",
       "Voluntary departure                                                8626\n",
       "Transferred                                                        6220\n",
       "Relief Granted by IJ                                               4714\n",
       "Bonded Out - Field Office                                          4466\n",
       "Proceedings Terminated                                             2813\n",
       "Withdrawal                                                          264\n",
       "Died                                                                 78\n",
       "Processing Disposition Changed Locally                               64\n",
       "Escaped                                                              40\n",
       "Office of Refugee Resettlement                                       34\n",
       "Title 42 Return                                                      11\n",
       "Name: count, dtype: int64"
      ]
     },
     "execution_count": 13,
     "metadata": {},
     "output_type": "execute_result"
    }
   ],
   "source": [
    "d[DetentionsColumns.STAY_RELEASE_REASON.column_name].value_counts()"
   ]
  },
  {
   "cell_type": "code",
   "execution_count": 14,
   "id": "80b620a9-1ef2-4931-8075-0a45efd92368",
   "metadata": {},
   "outputs": [],
   "source": [
    "# missing_percent_print(d, DetentionsColumns.RELIGION.column_name)"
   ]
  },
  {
   "cell_type": "code",
   "execution_count": 15,
   "id": "2f10d8b3-9dff-4268-9853-417ae5dde2b2",
   "metadata": {},
   "outputs": [
    {
     "name": "stdout",
     "output_type": "stream",
     "text": [
      "Marital Status, 22.06% missing values\n"
     ]
    }
   ],
   "source": [
    "missing_percent_print(d, DetentionsColumns.MARITAL_STATUS.column_name)"
   ]
  },
  {
   "cell_type": "code",
   "execution_count": 16,
   "id": "b81fd862-ea64-43bf-8c5a-2b482e6943df",
   "metadata": {},
   "outputs": [],
   "source": [
    "# impute missing values with 'Unknown'\n",
    "d[DetentionsColumns.MARITAL_STATUS.column_name] = d[DetentionsColumns.MARITAL_STATUS.column_name].apply(lambda x: 'Unknown' if type(x) != str else x)"
   ]
  },
  {
   "cell_type": "code",
   "execution_count": 17,
   "id": "a25e51ef-a7a5-4a2a-9078-181cdc4cab46",
   "metadata": {},
   "outputs": [
    {
     "data": {
      "text/plain": [
       "Marital Status\n",
       "Single       753660\n",
       "Unknown      345148\n",
       "Married      144303\n",
       "Divorced      10655\n",
       "Separated      5045\n",
       "Widowed        1711\n",
       "Name: count, dtype: int64"
      ]
     },
     "execution_count": 17,
     "metadata": {},
     "output_type": "execute_result"
    }
   ],
   "source": [
    "# assume 'separated' and 'divorced' are different?\n",
    "d[DetentionsColumns.MARITAL_STATUS.column_name].value_counts()"
   ]
  },
  {
   "cell_type": "code",
   "execution_count": 18,
   "id": "b0dc5b62-7ef2-40e0-a4b7-26e7e1e9a8cf",
   "metadata": {},
   "outputs": [
    {
     "name": "stdout",
     "output_type": "stream",
     "text": [
      "Ethnicity, 54.01% missing values\n"
     ]
    }
   ],
   "source": [
    "missing_percent_print(d, DetentionsColumns.ETHNICITY.column_name)"
   ]
  },
  {
   "cell_type": "code",
   "execution_count": 19,
   "id": "894bc584-29b7-4a07-a4af-c17fb1958883",
   "metadata": {},
   "outputs": [
    {
     "data": {
      "text/plain": [
       "Ethnicity\n",
       "Hispanic Origin           523927\n",
       "Not of Hispanic Origin     44333\n",
       "Unknown                    11487\n",
       "Name: count, dtype: int64"
      ]
     },
     "execution_count": 19,
     "metadata": {},
     "output_type": "execute_result"
    }
   ],
   "source": [
    "d[DetentionsColumns.ETHNICITY.column_name].value_counts()"
   ]
  },
  {
   "cell_type": "code",
   "execution_count": 20,
   "id": "9d9783b5-9ca0-47f1-b67e-91bf88965bb0",
   "metadata": {},
   "outputs": [],
   "source": [
    "d[DetentionsColumns.ETHNICITY.column_name] = d[DetentionsColumns.ETHNICITY.column_name].apply(lambda x: 'Unknown' if type(x) != str else x)"
   ]
  },
  {
   "cell_type": "code",
   "execution_count": 21,
   "id": "c43a7c9a-ffe4-4e81-960d-d265718828e5",
   "metadata": {},
   "outputs": [
    {
     "data": {
      "text/plain": [
       "Ethnicity\n",
       "Unknown                   692262\n",
       "Hispanic Origin           523927\n",
       "Not of Hispanic Origin     44333\n",
       "Name: count, dtype: int64"
      ]
     },
     "execution_count": 21,
     "metadata": {},
     "output_type": "execute_result"
    }
   ],
   "source": [
    "d[DetentionsColumns.ETHNICITY.column_name].value_counts()"
   ]
  },
  {
   "cell_type": "code",
   "execution_count": 22,
   "id": "f036bc0b-3e73-42a1-99d7-9098b784805e",
   "metadata": {},
   "outputs": [
    {
     "name": "stdout",
     "output_type": "stream",
     "text": [
      "Entry Status, 5.342% missing values\n"
     ]
    }
   ],
   "source": [
    "missing_percent_print(d, DetentionsColumns.ENTRY_STATUS.column_name)"
   ]
  },
  {
   "cell_type": "code",
   "execution_count": 23,
   "id": "73066ab7-84b3-4d61-a203-520b9a7c5a93",
   "metadata": {},
   "outputs": [],
   "source": [
    "c = DetentionsColumns.ENTRY_STATUS.column_name\n",
    "d[c] = d[c].replace('Crew - Absconder', 'Crew')\n",
    "d[c] = d[c].replace('Crew - Deserter', 'Crew')\n",
    "d[c] = d[c].replace('Crew - In transit to conveyance', 'Crew')\n",
    "d[c] = d[c].replace('Crew - Working', 'Crew')\n",
    "\n",
    "d[c] = d[c].replace('False Claim with Altered Document', 'False Claim')\n",
    "d[c] = d[c].replace('False Claim with Counterfeit Document', 'False Claim')\n",
    "d[c] = d[c].replace('False Claim with Valid Document', 'False Claim')\n",
    "d[c] = d[c].replace('ORAL FALSE CLAIMS TO OTHER THAN U.S. CITZ-', 'False Claim')\n",
    "d[c] = d[c].replace('Oral False Claim to U.S. Citizenship', 'False Claim')\n",
    "d[c] = d[c].replace('Fraud-Other Than False Claim to USC', 'False Claim')\n",
    "\n",
    "d[c] = d[c].replace('United States Citizen-False Claim', 'US Citizen')\n",
    "\n",
    "d[c] = d[c].replace('Parolee - CH - Advanced Humanitarian', 'Parolee')\n",
    "d[c] = d[c].replace('Parolee - DA - Advanced Parole', 'Parolee')\n",
    "d[c] = d[c].replace('Parolee - DT - Port of Entry Parole', 'Parolee')\n",
    "d[c] = d[c].replace('Parolee - OP - Overseas Parole', 'Parolee')\n",
    "d[c] = d[c].replace('Parolee - Parole as Asylee/Refugee', 'Parolee')\n",
    "d[c] = d[c].replace('Parolee- CC - Cuban Adjustment Act', 'Parolee')\n",
    "d[c] = d[c].replace('Significant Public Benefit Parole', 'Parolee')\n",
    "\n",
    "# https://www.aila.org/library/dhs-and-dos-suspend-transit-without-visa-twov-and-\n",
    "# TWOV - transit without visa (program ended in 2003? maybe outdated terminology?)\n",
    "d[c] = d[c].replace('TWOV', 'No Documents')\n",
    "\n",
    "d[c] = d[c].replace('Other Applicant for Admission', 'Other')\n",
    "d[c] = d[c].replace('Other Non-Immigrant Classification', 'Other')\n",
    "\n",
    "d[c] = d[c].replace('Refugee - Initial', 'Refugee')\n",
    "\n",
    "d[c] = d[c].replace('Temporary Resident', 'Temporary')\n",
    "d[c] = d[c].replace('Temporary Work Agriculture', 'Temporary')\n",
    "d[c] = d[c].replace('Temporary Worker Other', 'Temporary')\n",
    "\n",
    "d[c] = d[c].replace('Present Without Admission', 'PWA Other')\n",
    "\n",
    "d[c] = d[c].replace('Lawful Permanent Resident - Seeking admission (OALICE)', 'Legal Permanent Resident')"
   ]
  },
  {
   "cell_type": "code",
   "execution_count": 24,
   "id": "2a072129-4dba-430e-9d07-cde7f0e08998",
   "metadata": {},
   "outputs": [],
   "source": [
    "# sorted(list(d[DetentionsColumns.ENTRY_STATUS.column_name].value_counts().index))"
   ]
  },
  {
   "cell_type": "code",
   "execution_count": 25,
   "id": "3f4994ce-2c1a-4d08-93ae-8117c2f9ba4d",
   "metadata": {},
   "outputs": [
    {
     "data": {
      "text/plain": [
       "Entry Status\n",
       "Not  Applicable                         651717\n",
       "PWA Mexico                              449641\n",
       "Other                                    28092\n",
       "No Documents                             19488\n",
       "PWA Other                                15192\n",
       "PWA Canada                                9891\n",
       "Non-Immigrant                             7215\n",
       "Legal Permanent Resident                  3337\n",
       "Parolee                                   1445\n",
       "Asylum                                    1190\n",
       "Visitor                                    859\n",
       "Visa Waiver Program                        694\n",
       "Border Crossing Card                       619\n",
       "Immigrant                                  449\n",
       "US Citizen                                 440\n",
       "Removable                                  430\n",
       "Temporary                                  377\n",
       "Intercepted Attempting to EWI at POE       343\n",
       "Overstay                                   337\n",
       "Student                                    246\n",
       "Smuggler                                   222\n",
       "False Claim                                209\n",
       "Not in Custody                             155\n",
       "Stowaway                                   150\n",
       "Crew                                       136\n",
       "Initial Entry Immigrant                    103\n",
       "Refugee                                     96\n",
       "Absconder                                   44\n",
       "Castaway                                    40\n",
       "Conditional Resident                        21\n",
       "Entry Without Inspection                     5\n",
       "Imposter                                     5\n",
       "Name: count, dtype: int64"
      ]
     },
     "execution_count": 25,
     "metadata": {},
     "output_type": "execute_result"
    }
   ],
   "source": [
    "d[DetentionsColumns.ENTRY_STATUS.column_name].value_counts()"
   ]
  },
  {
   "cell_type": "code",
   "execution_count": 26,
   "id": "8a4a9ac0-a5a4-4920-a611-3aeffa73fe6b",
   "metadata": {},
   "outputs": [],
   "source": [
    "# missing_percent_print(d, DetentionsColumns.BOND_POSTED_DATE.column_name)"
   ]
  },
  {
   "cell_type": "code",
   "execution_count": 27,
   "id": "21a38bf1-ed67-45ca-bcb3-1728b74c2556",
   "metadata": {},
   "outputs": [],
   "source": [
    "# missing_percent_print(d, DetentionsColumns.BOND_POSTED_AMOUNT.column_name)"
   ]
  },
  {
   "cell_type": "code",
   "execution_count": 28,
   "id": "5aece6af-9f38-4ff0-9180-124cfec81afc",
   "metadata": {},
   "outputs": [
    {
     "name": "stdout",
     "output_type": "stream",
     "text": [
      "Case Status, 0.5387% missing values\n"
     ]
    }
   ],
   "source": [
    "missing_percent_print(d, DetentionsColumns.CASE_STATUS.column_name)"
   ]
  },
  {
   "cell_type": "code",
   "execution_count": 29,
   "id": "bd00fcd9-3792-4014-ab42-86bb4e84169c",
   "metadata": {},
   "outputs": [
    {
     "data": {
      "text/plain": [
       "Case Status\n",
       "8-Excluded/Removed - Inadmissibility            628779\n",
       "ACTIVE                                          410758\n",
       "6-Deported/Removed - Deportability              140424\n",
       "3-Voluntary Departure Confirmed                  41382\n",
       "E-Charging Document Canceled by ICE              14153\n",
       "9-VR Witnessed                                    8508\n",
       "B-Relief Granted                                  4261\n",
       "A-Proceedings Terminated                          4095\n",
       "0-Withdrawal Permitted - I-275 Issued              547\n",
       "5-Title 50 Expulsion                               500\n",
       "7-Died                                             199\n",
       "L-Legalization - Permanent Residence Granted        83\n",
       "Z-SAW - Permanent Residence Granted                 43\n",
       "Name: count, dtype: int64"
      ]
     },
     "execution_count": 29,
     "metadata": {},
     "output_type": "execute_result"
    }
   ],
   "source": [
    "d[DetentionsColumns.CASE_STATUS.column_name].value_counts()"
   ]
  },
  {
   "cell_type": "code",
   "execution_count": 30,
   "id": "4a3e822c-69d1-4d48-818b-7a6cc79be983",
   "metadata": {},
   "outputs": [
    {
     "data": {
      "text/plain": [
       "Case Category\n",
       "[8C] Excludable / Inadmissible - Administrative Final Order Issued             342985\n",
       "[16] Reinstated Final Order                                                    235967\n",
       "[8G] Expedited Removal - Credible Fear Referral                                180103\n",
       "[8K] Expedited Removal Terminated due to Credible Fear Finding / NTA Issued    125037\n",
       "[8B] Excludable / Inadmissible - Under Adjudication by IJ                      116297\n",
       "[8F] Expedited Removal                                                          99074\n",
       "[3] Deportable - Administratively Final Order                                   49820\n",
       "[8A] Excludable / Inadmissible - Hearing Not Commenced                          29250\n",
       "[2A] Deportable - Under Adjudication by IJ                                      23648\n",
       "[11] Administrative Deportation / Removal                                       17533\n",
       "[9] VR Under Safeguards                                                          8915\n",
       "[1A] Voluntary Departure - Un-Expired and Un-Extended Departure Period           7792\n",
       "[10] Visa Waiver Deportation / Removal                                           5542\n",
       "[8D] Excludable / Inadmissible - Under Adjudication by BIA                       4663\n",
       "[8E] Inadmissible - ICE Fugitive                                                 2584\n",
       "[2B] Deportable - Under Adjudication by BIA                                      1250\n",
       "[5F] Unable to Obtain Travel Document                                             747\n",
       "[8I] Inadmissible - ICE Fugitive - Expedited Removal                              509\n",
       "[8H] Expedited Removal - Status Claim Referral                                    445\n",
       "[5E] Relief Granted - Extended Voluntary Departure                                326\n",
       "[5C] Relief Granted - Withholding of Deportation / Removal                        282\n",
       "[5D] Final Order of Deportation / Removal - Deferred Action Granted               277\n",
       "[12] Judicial Deportation / Removal                                               250\n",
       "[14] Crewmen, Stowaways, S-Visa Holders, 235(c) Cases                             217\n",
       "[5B] Removable - ICE Fugitive                                                      91\n",
       "[5A] Referred for Investigation - No Show for Hearing - No Final Order             57\n",
       "[1B] Voluntary Departure - Extended Departure Period                               40\n",
       "[15] Terrorist Court Case (Title 5)                                                28\n",
       "[13] Section 250 Removal                                                            3\n",
       "Name: count, dtype: int64"
      ]
     },
     "execution_count": 30,
     "metadata": {},
     "output_type": "execute_result"
    }
   ],
   "source": [
    "d[DetentionsColumns.CASE_CATEGORY.column_name].value_counts()"
   ]
  },
  {
   "cell_type": "code",
   "execution_count": 31,
   "id": "356c8542-4944-4b6d-bdc2-365207d1f77a",
   "metadata": {},
   "outputs": [
    {
     "name": "stdout",
     "output_type": "stream",
     "text": [
      "Case Threat Level, 66.16% missing values\n"
     ]
    }
   ],
   "source": [
    "missing_percent_print(d, DetentionsColumns.CASE_THREAT_LEVEL.column_name)"
   ]
  },
  {
   "cell_type": "code",
   "execution_count": 32,
   "id": "e1d90bc9-e44f-4fd8-aefc-05dd6d4fb9af",
   "metadata": {},
   "outputs": [
    {
     "data": {
      "text/plain": [
       "Case Threat Level\n",
       "1.0    188644\n",
       "3.0    134020\n",
       "2.0    103912\n",
       "Name: count, dtype: int64"
      ]
     },
     "execution_count": 32,
     "metadata": {},
     "output_type": "execute_result"
    }
   ],
   "source": [
    "d[DetentionsColumns.CASE_THREAT_LEVEL.column_name].value_counts()"
   ]
  },
  {
   "cell_type": "code",
   "execution_count": 33,
   "id": "51ce739e-b323-40f6-b168-ece39ef4903b",
   "metadata": {},
   "outputs": [
    {
     "name": "stdout",
     "output_type": "stream",
     "text": [
      "Book In Criminality, 0.0% missing values\n"
     ]
    }
   ],
   "source": [
    "missing_percent_print(d, DetentionsColumns.BOOK_IN_CRIMINALITY.column_name)"
   ]
  },
  {
   "cell_type": "code",
   "execution_count": 34,
   "id": "49faeb5e-9c3b-47e3-b95b-2cbf055280ef",
   "metadata": {},
   "outputs": [
    {
     "data": {
      "text/plain": [
       "Book In Criminality\n",
       "3 Other Immigration Violator    599080\n",
       "1 Convicted Criminal            424673\n",
       "2 Pending Criminal Charges      236769\n",
       "Name: count, dtype: int64"
      ]
     },
     "execution_count": 34,
     "metadata": {},
     "output_type": "execute_result"
    }
   ],
   "source": [
    "d[DetentionsColumns.BOOK_IN_CRIMINALITY.column_name].value_counts()"
   ]
  },
  {
   "cell_type": "code",
   "execution_count": 35,
   "id": "cec41e4c-5aff-4665-be00-0270439a32f9",
   "metadata": {},
   "outputs": [
    {
     "name": "stdout",
     "output_type": "stream",
     "text": [
      "Final Charge, 34.96% missing values\n"
     ]
    }
   ],
   "source": [
    "missing_percent_print(d, DetentionsColumns.FINAL_CHARGE.column_name)"
   ]
  },
  {
   "cell_type": "code",
   "execution_count": 36,
   "id": "8b2b6654-95fd-42e6-bd98-dab0f73ea548",
   "metadata": {},
   "outputs": [
    {
     "data": {
      "text/plain": [
       "Final Charge\n",
       "IMMIGRANT WITHOUT VISA                                                                                                                                                                                                  275280\n",
       "ALIEN PRESENT WITHOUT ADMISSION OR PAROLE                                                                                                                                                                               270563\n",
       "ALIEN PREVIOUSLY REMOVED ONCE, NOT AS AN ARRIVING ALIEN (NOT AGGRAVATED FELONS)                                                                                                                                          59888\n",
       "PREVIOUSLY ORDERED REMOVED AND ENTERED OR ATTEMPTED TO ENTER WITHOUT BEING ADMITTED                                                                                                                                      48953\n",
       "ALIEN PREVIOUSLY REMOVED TWO OR MORE TIMES, NOT AS AN ARRIVING ALIEN, NOT AGGRAVATED FELONS                                                                                                                              36872\n",
       "                                                                                                                                                                                                                         ...  \n",
       "HIGH SPEED FLIGHT CONVICTION, 18 USC 758                                                                                                                                                                                     2\n",
       "SIGNIFICANT TRAFFICKERS IN PERSONS                                                                                                                                                                                           2\n",
       "INSANE                                                                                                                                                                                                                       2\n",
       "INADMISSIBLE AT ENTRY OR ADJUSTMENT:  PROSTITUTION WITHIN 10 YEARS OF ENTRY                                                                                                                                                  1\n",
       "INADMISSIBLE AT ENTRY OR ADJUSTMENT:  UNLAWFULLY PRESENT FOR ONE-YEAR AGGREGATE PERIOD AND ENTERED OR ATTEMPTED TO ENTER WITHOUT BEING ADMITTED [AFTER 4/1/97] -- 10 YEAR BAR AND AG CONSENT REQUIRED AFTER 10 YEARS         1\n",
       "Name: count, Length: 101, dtype: int64"
      ]
     },
     "execution_count": 36,
     "metadata": {},
     "output_type": "execute_result"
    }
   ],
   "source": [
    "c = DetentionsColumns.FINAL_CHARGE.column_name\n",
    "d[c] = d[c].apply(lambda x: x.replace('** ', '') if type(x) == str else x)\n",
    "d[c] = d[c].apply(lambda x: x.upper() if type(x) == str else x)\n",
    "\n",
    "d[c] = d[c].replace('CONVICTION OF ONE CRIME INVOLVING MORAL TURPITUDE', 'CONVICTION OF CRIME INVOLVING MORAL TURPITUDE')\n",
    "d[c] = d[c].replace('CONVICTION OF TWO CRIMES INVOLVING MORAL TURPITUDE', 'CONVICTION OF CRIME INVOLVING MORAL TURPITUDE')\n",
    "d[c] = d[c].replace('CONVICTION OR COMMISSION OF A CRIME INVOLVING MORAL TURPITUDE', 'CONVICTION OF CRIME INVOLVING MORAL TURPITUDE')\n",
    "d[c] = d[c].replace('MORAL TURPITUDE-1 CONVICTION', 'CONVICTION OF CRIME INVOLVING MORAL TURPITUDE')\n",
    "\n",
    "d[c] = d[c].replace('FALSE CLAIM OF UNITED STATES CITIZENSHIP', 'FALSE CLAIM TO U.S. CITIZENSHIP')\n",
    "d[c] = d[c].replace('TRAFFICKER IN CONTROLLED SUBSTANCE', 'CONTROLLED SUBSTANCE TRAFFICKERS')\n",
    "d[c] = d[c].replace('IMMIGRANT WITHOUT AN IMMIGRANT VISA', 'IMMIGRANT WITHOUT VISA')\n",
    "d[c] = d[c].replace('DRUG ABUSER OR ADDICT', 'DRUG CONVICTION')\n",
    "d[c] = d[c].replace('NARCOTICS', 'DRUG CONVICTION')\n",
    "d[c] = d[c].replace('CONVICTION -- VIOLATION OF NARCOTIC DRUG LAW OR REGULATION', 'DRUG CONVICTION')\n",
    "\n",
    "d[c] = d[c].replace('ENTERED WITHOUT INSPECTION', 'ENTRY WITHOUT INSPECTION')\n",
    "d[c] = d[c].replace('EWI', 'ENTRY WITHOUT INSPECTION')\n",
    "\n",
    "d[c] = d[c].replace('SECURITY AND RELATED GROUNDS:  TERRORIST ACTIVITY', 'TERRORISM RELATED')\n",
    "d[c] = d[c].replace('ENGAGED IN TERRORIST ACTIVITY', 'TERRORISM RELATED')\n",
    "d[c] = d[c].replace('POLITICAL ENDORSER OF TERRORIST ORGANIZATION', 'TERRORISM RELATED')\n",
    "d[c] = d[c].replace('LIKELY TO ENGAGE IN TERRORIST ACTIVITY', 'TERRORISM RELATED')   # ?????\n",
    "\n",
    "d[c] = d[c].replace('SECURITY AND RELATED GROUNDS:  ESPIONAGE AND SABOTAGE', 'SECURITY AND RELATED GROUNDS')\n",
    "d[c] = d[c].replace('UNLAWFUL ACTIVITY (SECURITY & RELATED GROUNDS)', 'SECURITY AND RELATED GROUNDS')\n",
    "d[c] = d[c].replace('SECURITY AND RELATED GROUNDS:  ENDANGERING PUBLIC SAFETY OR NATIONAL SECURITY', 'SECURITY AND RELATED GROUNDS')\n",
    "\n",
    "d[c] = d[c].replace('NONIMMIGRANT OVERSTAY: CREWMEMBER', 'NONIMMIGRANT OVERSTAY')\n",
    "d[c] = d[c].replace('NONIMMIGRANT -- REMAINED LONGER', 'NONIMMIGRANT OVERSTAY')\n",
    "d[c] = d[c].replace('NONIMMIGRANT STUDENT OUT OF STATUS: FAILURE TO ATTEND', 'NONIMMIGRANT STUDENT OUT OF STATUS')\n",
    "d[c] = d[c].replace('NONIMMIGRANT STUDENT OUT OF STATUS:  FAILURE TO CARRY FULL COURSE OF STUDY', 'NONIMMIGRANT STUDENT OUT OF STATUS')\n",
    "d[c] = d[c].replace('NONIMMIGRANT STATUS VIOLATORS: FAILED TO MAINTAIN THE NONIMMIGRANT STATUS IN WHICH THE ALIEN WAS ADMITTED', 'NONIMMIGRANT STATUS VIOLATORS')\n",
    "d[c] = d[c].replace('NONIMMIGRANT FAILURE TO MAINTAIN STATUS AFTER STATUS CHANGED', 'NONIMMIGRANT STATUS VIOLATORS')\n",
    "d[c] = d[c].replace('NONIMMIGRANT OUT OF STATUS: MEXICAN BORDER CROSSER', 'NONIMMIGRANT STATUS VIOLATORS')\n",
    "d[c] = d[c].replace('FAILURE TO MAINTAIN STATUS:  CRIME OF VIOLENCE UNDER 8 C.F.R. 214.1(G)', 'NONIMMIGRANT STATUS VIOLATORS')\n",
    "d[c] = d[c].replace('VIOLATION OF NONIMMIGRANT STATUS - FAILURE TO COMPLY WITH SPECIAL REGISTRATION REQUIREMENTS (NSEERS)', 'NONIMMIGRANT STATUS VIOLATORS')\n",
    "d[c] = d[c].replace('FAIL TO MAINTAIN NONIMM STATUS', 'NONIMMIGRANT STATUS VIOLATORS')\n",
    "d[c] = d[c].replace('NON-IMMIGRANT STATUS VIOLATOR', 'NONIMMIGRANT STATUS VIOLATORS')\n",
    "\n",
    "d[c] = d[c].replace('ALIEN PRESENT WITHOUT ADMISSION OR PAROLE - (PWAS)', 'ALIEN PRESENT WITHOUT ADMISSION OR PAROLE')\n",
    "d[c] = d[c].replace('ALIEN PRESENT IN THE UNITED STATES WHO WAS NOT ADMITTED OR PAROLED OR ARRIVING IN THE UNITED STATES AT A TIME OR PLACE NOT DESIGNATED BY THE AG - (212)(A)(6)(A)', 'ALIEN PRESENT WITHOUT ADMISSION OR PAROLE')\n",
    "\n",
    "d[c] = d[c].replace('FRAUD AND MISUSE OF VISAS, PERMITS AND OTHER DOCUMENTS:  CONVICTED UNDER 18 USC 1546', 'FRAUD OR WILLFUL MISREPRESENTATION')\n",
    "d[c] = d[c].replace('ALIEN PRESENT IN THE UNITED STATES WHO WAS NOT ADMITTED OR PAROLED OR ARRIVING IN THE UNITED STATES AT A TIME OR PLACE NOT DESIGNATED BY THE AG - (212)(A)(6)(A)', 'ALIEN PRESENT WITHOUT ADMISSION OR PAROLE')\n",
    "\n",
    "d[DetentionsColumns.FINAL_CHARGE.column_name].value_counts()"
   ]
  },
  {
   "cell_type": "code",
   "execution_count": 37,
   "id": "ae616600-4dc0-4d47-8edd-19e493bccd85",
   "metadata": {},
   "outputs": [
    {
     "data": {
      "text/plain": [
       "['NONIMMIGRANT STATUS VIOLATORS',\n",
       " 'NONIMMIGRANT STUDENT OUT OF STATUS',\n",
       " 'INADMISSIBLE AT ENTRY OR ADJUSTMENT OF STATUS DUE TO FALSE CLAIM TO U.S. CITIZENSHIP PREDICATED ON 212A6CII',\n",
       " 'TERMINATION OF CONDITIONAL PERMANENT RESIDENT STATUS']"
      ]
     },
     "execution_count": 37,
     "metadata": {},
     "output_type": "execute_result"
    }
   ],
   "source": [
    "[x for x in d[DetentionsColumns.FINAL_CHARGE.column_name].unique() if type(x) == str and 'STATUS' in x]"
   ]
  },
  {
   "cell_type": "code",
   "execution_count": 38,
   "id": "03751d15-be86-4dcc-89b1-d1cf79d10443",
   "metadata": {},
   "outputs": [
    {
     "name": "stdout",
     "output_type": "stream",
     "text": [
      "Final Program, 0.0% missing values\n"
     ]
    }
   ],
   "source": [
    "missing_percent_print(d, DetentionsColumns.FINAL_PROGRAM.column_name)"
   ]
  },
  {
   "cell_type": "code",
   "execution_count": 39,
   "id": "2c83f201-2355-414e-bff3-21f10180d37c",
   "metadata": {},
   "outputs": [],
   "source": [
    "c = DetentionsColumns.FINAL_PROGRAM.column_name\n",
    "d[c] = d[c].replace('Inspections - Land', 'Inspections')\n",
    "d[c] = d[c].replace('Inspections - Air', 'Inspections')\n",
    "d[c] = d[c].replace('Inspections - Sea', 'Inspections')\n",
    "\n",
    "d[c] = d[c].replace('287G Program', '287g Task Force')\n",
    "\n",
    "d[c] = d[c].replace('Mobile Criminal Alien Team', 'Fugitive Operations')\n",
    "d[c] = d[c].replace('Violent Criminal Alien Section', 'ERO Criminal Prosecutions')"
   ]
  },
  {
   "cell_type": "code",
   "execution_count": 40,
   "id": "1e2d3b11-b30c-4866-8905-7e87cc69178c",
   "metadata": {},
   "outputs": [
    {
     "data": {
      "text/plain": [
       "Final Program\n",
       "ERO Criminal Alien Program             473172\n",
       "Border Patrol                          468800\n",
       "Fugitive Operations                    123852\n",
       "Inspections                             55811\n",
       "Non-Detained Docket Control             46799\n",
       "Alternatives to Detention               26945\n",
       "Detained Docket Control                 18878\n",
       "287g Task Force                         17931\n",
       "Homeland Security Investigations        15536\n",
       "Non-User Fee Investigations              3992\n",
       "Intelligence                             2432\n",
       "HSI Criminal Arrest Only                 2400\n",
       "ERO Criminal Prosecutions                1242\n",
       "Detention and Deportation                 835\n",
       "Law Enforcement Area Response Units       491\n",
       "User Fee Investigations                   426\n",
       "Juvenile                                  377\n",
       "Joint Terrorism Task Force                341\n",
       "Asylum                                     93\n",
       "Adjudications                              93\n",
       "Quick Response Team                        31\n",
       "Joint Criminal Alien Response Team         21\n",
       "DHS HQ I & A                               15\n",
       "Examinations                                6\n",
       "Coast Guard                                 3\n",
       "Name: count, dtype: int64"
      ]
     },
     "execution_count": 40,
     "metadata": {},
     "output_type": "execute_result"
    }
   ],
   "source": [
    "d[DetentionsColumns.FINAL_PROGRAM.column_name].value_counts()"
   ]
  },
  {
   "cell_type": "code",
   "execution_count": 41,
   "id": "75a8fed8-54a9-4131-a35a-e12d79ab2da6",
   "metadata": {},
   "outputs": [
    {
     "name": "stdout",
     "output_type": "stream",
     "text": [
      "MSC Charge, 66.16% missing values\n"
     ]
    }
   ],
   "source": [
    "missing_percent_print(d, DetentionsColumns.MSC_CHARGE.column_name)"
   ]
  },
  {
   "cell_type": "code",
   "execution_count": 42,
   "id": "9d00cd7b-d087-4899-8ffe-82ed2cc68b0b",
   "metadata": {},
   "outputs": [
    {
     "data": {
      "text/plain": [
       "MSC Charge\n",
       "Driving Under Influence Liquor                             54003\n",
       "Illegal Entry (INA SEC.101(a)(43)(O), 8USC1325 only)       36619\n",
       "Assault                                                    28590\n",
       "Traffic Offense                                            22359\n",
       "Illegal Re-Entry (INA SEC.101(a)(43)(O), 8USC1326 only)    21973\n",
       "                                                           ...  \n",
       "Theft Vehicle By Bailee                                        1\n",
       "Abscond While On Probation                                     1\n",
       "Arson - Residence-Defraud Insurer                              1\n",
       "Frequent House Ill Fame                                        1\n",
       "Transport Tools For Forgery/Counterfeiting                     1\n",
       "Name: count, Length: 394, dtype: int64"
      ]
     },
     "execution_count": 42,
     "metadata": {},
     "output_type": "execute_result"
    }
   ],
   "source": [
    "d[DetentionsColumns.MSC_CHARGE.column_name].value_counts()"
   ]
  },
  {
   "cell_type": "code",
   "execution_count": 43,
   "id": "d7cec8f6-5a91-4cc5-b7b9-22529a368b50",
   "metadata": {},
   "outputs": [],
   "source": [
    "# most of these values appear clean/normalized, but we could enrich the data with a \"MSC\" category\n",
    "# that is more general than the specific MSCs"
   ]
  },
  {
   "cell_type": "code",
   "execution_count": 44,
   "id": "d0fe771c-9a6f-4d1c-bc98-243ef6576516",
   "metadata": {},
   "outputs": [],
   "source": [
    "# d.to_parquet(proc_data / 'detentions_cleaned.parquet')"
   ]
  },
  {
   "cell_type": "code",
   "execution_count": null,
   "id": "02d281c6-a2f8-442f-bd62-603ab46a82b7",
   "metadata": {},
   "outputs": [],
   "source": []
  }
 ],
 "metadata": {
  "kernelspec": {
   "display_name": "Python 3 (ipykernel)",
   "language": "python",
   "name": "python3"
  },
  "language_info": {
   "codemirror_mode": {
    "name": "ipython",
    "version": 3
   },
   "file_extension": ".py",
   "mimetype": "text/x-python",
   "name": "python",
   "nbconvert_exporter": "python",
   "pygments_lexer": "ipython3",
   "version": "3.13.5"
  }
 },
 "nbformat": 4,
 "nbformat_minor": 5
}
